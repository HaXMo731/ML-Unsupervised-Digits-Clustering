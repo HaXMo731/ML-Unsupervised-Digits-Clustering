{
 "cells": [
  {
   "cell_type": "code",
   "execution_count": 1,
   "id": "4921f2a1",
   "metadata": {
    "_cell_guid": "b1076dfc-b9ad-4769-8c92-a6c4dae69d19",
    "_uuid": "8f2839f25d086af736a60e9eeb907d3b93b6e0e5",
    "execution": {
     "iopub.execute_input": "2024-04-20T19:34:20.088016Z",
     "iopub.status.busy": "2024-04-20T19:34:20.086602Z",
     "iopub.status.idle": "2024-04-20T19:34:21.163280Z",
     "shell.execute_reply": "2024-04-20T19:34:21.161504Z"
    },
    "papermill": {
     "duration": 1.089232,
     "end_time": "2024-04-20T19:34:21.166515",
     "exception": false,
     "start_time": "2024-04-20T19:34:20.077283",
     "status": "completed"
    },
    "tags": []
   },
   "outputs": [
    {
     "name": "stdout",
     "output_type": "stream",
     "text": [
      "/kaggle/input/digit-clustering/sample_submission.csv\n",
      "/kaggle/input/digit-clustering/data.csv\n"
     ]
    }
   ],
   "source": [
    "# This Python 3 environment comes with many helpful analytics libraries installed\n",
    "# It is defined by the kaggle/python Docker image: https://github.com/kaggle/docker-python\n",
    "# For example, here's several helpful packages to load\n",
    "\n",
    "import numpy as np # linear algebra\n",
    "import pandas as pd # data processing, CSV file I/O (e.g. pd.read_csv)\n",
    "\n",
    "# Input data files are available in the read-only \"../input/\" directory\n",
    "# For example, running this (by clicking run or pressing Shift+Enter) will list all files under the input directory\n",
    "\n",
    "import os\n",
    "for dirname, _, filenames in os.walk('/kaggle/input'):\n",
    "    for filename in filenames:\n",
    "        print(os.path.join(dirname, filename))\n",
    "\n",
    "# You can write up to 20GB to the current directory (/kaggle/working/) that gets preserved as output when you create a version using \"Save & Run All\" \n",
    "# You can also write temporary files to /kaggle/temp/, but they won't be saved outside of the current session"
   ]
  },
  {
   "cell_type": "markdown",
   "id": "3e5550e1",
   "metadata": {
    "papermill": {
     "duration": 0.006935,
     "end_time": "2024-04-20T19:34:21.180754",
     "exception": false,
     "start_time": "2024-04-20T19:34:21.173819",
     "status": "completed"
    },
    "tags": []
   },
   "source": [
    "# > **Import Data**"
   ]
  },
  {
   "cell_type": "code",
   "execution_count": 2,
   "id": "3ffd3977",
   "metadata": {
    "execution": {
     "iopub.execute_input": "2024-04-20T19:34:21.197268Z",
     "iopub.status.busy": "2024-04-20T19:34:21.196596Z",
     "iopub.status.idle": "2024-04-20T19:34:21.386335Z",
     "shell.execute_reply": "2024-04-20T19:34:21.384970Z"
    },
    "papermill": {
     "duration": 0.201913,
     "end_time": "2024-04-20T19:34:21.389807",
     "exception": false,
     "start_time": "2024-04-20T19:34:21.187894",
     "status": "completed"
    },
    "tags": []
   },
   "outputs": [],
   "source": [
    "df = pd.read_csv('/kaggle/input/digit-clustering/data.csv')"
   ]
  },
  {
   "cell_type": "markdown",
   "id": "d4ed4965",
   "metadata": {
    "papermill": {
     "duration": 0.007891,
     "end_time": "2024-04-20T19:34:21.404486",
     "exception": false,
     "start_time": "2024-04-20T19:34:21.396595",
     "status": "completed"
    },
    "tags": []
   },
   "source": [
    "# > **Explore Dataset**"
   ]
  },
  {
   "cell_type": "code",
   "execution_count": 3,
   "id": "72239481",
   "metadata": {
    "execution": {
     "iopub.execute_input": "2024-04-20T19:34:21.420304Z",
     "iopub.status.busy": "2024-04-20T19:34:21.419820Z",
     "iopub.status.idle": "2024-04-20T19:34:21.451615Z",
     "shell.execute_reply": "2024-04-20T19:34:21.450436Z"
    },
    "papermill": {
     "duration": 0.043421,
     "end_time": "2024-04-20T19:34:21.454853",
     "exception": false,
     "start_time": "2024-04-20T19:34:21.411432",
     "status": "completed"
    },
    "tags": []
   },
   "outputs": [
    {
     "data": {
      "text/html": [
       "<div>\n",
       "<style scoped>\n",
       "    .dataframe tbody tr th:only-of-type {\n",
       "        vertical-align: middle;\n",
       "    }\n",
       "\n",
       "    .dataframe tbody tr th {\n",
       "        vertical-align: top;\n",
       "    }\n",
       "\n",
       "    .dataframe thead th {\n",
       "        text-align: right;\n",
       "    }\n",
       "</style>\n",
       "<table border=\"1\" class=\"dataframe\">\n",
       "  <thead>\n",
       "    <tr style=\"text-align: right;\">\n",
       "      <th></th>\n",
       "      <th>ID</th>\n",
       "      <th>pixel0</th>\n",
       "      <th>pixel1</th>\n",
       "      <th>pixel2</th>\n",
       "      <th>pixel3</th>\n",
       "      <th>pixel4</th>\n",
       "      <th>pixel5</th>\n",
       "      <th>pixel6</th>\n",
       "      <th>pixel7</th>\n",
       "      <th>pixel8</th>\n",
       "      <th>...</th>\n",
       "      <th>pixel774</th>\n",
       "      <th>pixel775</th>\n",
       "      <th>pixel776</th>\n",
       "      <th>pixel777</th>\n",
       "      <th>pixel778</th>\n",
       "      <th>pixel779</th>\n",
       "      <th>pixel780</th>\n",
       "      <th>pixel781</th>\n",
       "      <th>pixel782</th>\n",
       "      <th>pixel783</th>\n",
       "    </tr>\n",
       "  </thead>\n",
       "  <tbody>\n",
       "    <tr>\n",
       "      <th>0</th>\n",
       "      <td>1</td>\n",
       "      <td>0</td>\n",
       "      <td>0</td>\n",
       "      <td>0</td>\n",
       "      <td>0</td>\n",
       "      <td>0</td>\n",
       "      <td>0</td>\n",
       "      <td>0</td>\n",
       "      <td>0</td>\n",
       "      <td>0</td>\n",
       "      <td>...</td>\n",
       "      <td>0</td>\n",
       "      <td>0</td>\n",
       "      <td>0</td>\n",
       "      <td>0</td>\n",
       "      <td>0</td>\n",
       "      <td>0</td>\n",
       "      <td>0</td>\n",
       "      <td>0</td>\n",
       "      <td>0</td>\n",
       "      <td>0</td>\n",
       "    </tr>\n",
       "    <tr>\n",
       "      <th>1</th>\n",
       "      <td>2</td>\n",
       "      <td>0</td>\n",
       "      <td>0</td>\n",
       "      <td>0</td>\n",
       "      <td>0</td>\n",
       "      <td>0</td>\n",
       "      <td>0</td>\n",
       "      <td>0</td>\n",
       "      <td>0</td>\n",
       "      <td>0</td>\n",
       "      <td>...</td>\n",
       "      <td>0</td>\n",
       "      <td>0</td>\n",
       "      <td>0</td>\n",
       "      <td>0</td>\n",
       "      <td>0</td>\n",
       "      <td>0</td>\n",
       "      <td>0</td>\n",
       "      <td>0</td>\n",
       "      <td>0</td>\n",
       "      <td>0</td>\n",
       "    </tr>\n",
       "    <tr>\n",
       "      <th>2</th>\n",
       "      <td>3</td>\n",
       "      <td>0</td>\n",
       "      <td>0</td>\n",
       "      <td>0</td>\n",
       "      <td>0</td>\n",
       "      <td>0</td>\n",
       "      <td>0</td>\n",
       "      <td>0</td>\n",
       "      <td>0</td>\n",
       "      <td>0</td>\n",
       "      <td>...</td>\n",
       "      <td>0</td>\n",
       "      <td>0</td>\n",
       "      <td>0</td>\n",
       "      <td>0</td>\n",
       "      <td>0</td>\n",
       "      <td>0</td>\n",
       "      <td>0</td>\n",
       "      <td>0</td>\n",
       "      <td>0</td>\n",
       "      <td>0</td>\n",
       "    </tr>\n",
       "    <tr>\n",
       "      <th>3</th>\n",
       "      <td>4</td>\n",
       "      <td>0</td>\n",
       "      <td>0</td>\n",
       "      <td>0</td>\n",
       "      <td>0</td>\n",
       "      <td>0</td>\n",
       "      <td>0</td>\n",
       "      <td>0</td>\n",
       "      <td>0</td>\n",
       "      <td>0</td>\n",
       "      <td>...</td>\n",
       "      <td>0</td>\n",
       "      <td>0</td>\n",
       "      <td>0</td>\n",
       "      <td>0</td>\n",
       "      <td>0</td>\n",
       "      <td>0</td>\n",
       "      <td>0</td>\n",
       "      <td>0</td>\n",
       "      <td>0</td>\n",
       "      <td>0</td>\n",
       "    </tr>\n",
       "    <tr>\n",
       "      <th>4</th>\n",
       "      <td>5</td>\n",
       "      <td>0</td>\n",
       "      <td>0</td>\n",
       "      <td>0</td>\n",
       "      <td>0</td>\n",
       "      <td>0</td>\n",
       "      <td>0</td>\n",
       "      <td>0</td>\n",
       "      <td>0</td>\n",
       "      <td>0</td>\n",
       "      <td>...</td>\n",
       "      <td>0</td>\n",
       "      <td>0</td>\n",
       "      <td>0</td>\n",
       "      <td>0</td>\n",
       "      <td>0</td>\n",
       "      <td>0</td>\n",
       "      <td>0</td>\n",
       "      <td>0</td>\n",
       "      <td>0</td>\n",
       "      <td>0</td>\n",
       "    </tr>\n",
       "  </tbody>\n",
       "</table>\n",
       "<p>5 rows × 785 columns</p>\n",
       "</div>"
      ],
      "text/plain": [
       "   ID  pixel0  pixel1  pixel2  pixel3  pixel4  pixel5  pixel6  pixel7  pixel8  \\\n",
       "0   1       0       0       0       0       0       0       0       0       0   \n",
       "1   2       0       0       0       0       0       0       0       0       0   \n",
       "2   3       0       0       0       0       0       0       0       0       0   \n",
       "3   4       0       0       0       0       0       0       0       0       0   \n",
       "4   5       0       0       0       0       0       0       0       0       0   \n",
       "\n",
       "   ...  pixel774  pixel775  pixel776  pixel777  pixel778  pixel779  pixel780  \\\n",
       "0  ...         0         0         0         0         0         0         0   \n",
       "1  ...         0         0         0         0         0         0         0   \n",
       "2  ...         0         0         0         0         0         0         0   \n",
       "3  ...         0         0         0         0         0         0         0   \n",
       "4  ...         0         0         0         0         0         0         0   \n",
       "\n",
       "   pixel781  pixel782  pixel783  \n",
       "0         0         0         0  \n",
       "1         0         0         0  \n",
       "2         0         0         0  \n",
       "3         0         0         0  \n",
       "4         0         0         0  \n",
       "\n",
       "[5 rows x 785 columns]"
      ]
     },
     "execution_count": 3,
     "metadata": {},
     "output_type": "execute_result"
    }
   ],
   "source": [
    "df.head()"
   ]
  },
  {
   "cell_type": "code",
   "execution_count": 4,
   "id": "781fd156",
   "metadata": {
    "execution": {
     "iopub.execute_input": "2024-04-20T19:34:21.472003Z",
     "iopub.status.busy": "2024-04-20T19:34:21.471547Z",
     "iopub.status.idle": "2024-04-20T19:34:21.491502Z",
     "shell.execute_reply": "2024-04-20T19:34:21.490146Z"
    },
    "papermill": {
     "duration": 0.032257,
     "end_time": "2024-04-20T19:34:21.494689",
     "exception": false,
     "start_time": "2024-04-20T19:34:21.462432",
     "status": "completed"
    },
    "tags": []
   },
   "outputs": [],
   "source": [
    "IDs = df['ID']\n",
    "df = df.drop('ID', axis = 1)"
   ]
  },
  {
   "cell_type": "code",
   "execution_count": 5,
   "id": "1cf50e8c",
   "metadata": {
    "execution": {
     "iopub.execute_input": "2024-04-20T19:34:21.512096Z",
     "iopub.status.busy": "2024-04-20T19:34:21.511604Z",
     "iopub.status.idle": "2024-04-20T19:34:21.519352Z",
     "shell.execute_reply": "2024-04-20T19:34:21.518022Z"
    },
    "papermill": {
     "duration": 0.020006,
     "end_time": "2024-04-20T19:34:21.522056",
     "exception": false,
     "start_time": "2024-04-20T19:34:21.502050",
     "status": "completed"
    },
    "tags": []
   },
   "outputs": [
    {
     "data": {
      "text/plain": [
       "(999, 784)"
      ]
     },
     "execution_count": 5,
     "metadata": {},
     "output_type": "execute_result"
    }
   ],
   "source": [
    "df.shape"
   ]
  },
  {
   "cell_type": "code",
   "execution_count": 6,
   "id": "aff9bb4e",
   "metadata": {
    "execution": {
     "iopub.execute_input": "2024-04-20T19:34:21.539104Z",
     "iopub.status.busy": "2024-04-20T19:34:21.538621Z",
     "iopub.status.idle": "2024-04-20T19:34:21.561584Z",
     "shell.execute_reply": "2024-04-20T19:34:21.560375Z"
    },
    "papermill": {
     "duration": 0.034547,
     "end_time": "2024-04-20T19:34:21.564171",
     "exception": false,
     "start_time": "2024-04-20T19:34:21.529624",
     "status": "completed"
    },
    "tags": []
   },
   "outputs": [
    {
     "data": {
      "text/html": [
       "<div>\n",
       "<style scoped>\n",
       "    .dataframe tbody tr th:only-of-type {\n",
       "        vertical-align: middle;\n",
       "    }\n",
       "\n",
       "    .dataframe tbody tr th {\n",
       "        vertical-align: top;\n",
       "    }\n",
       "\n",
       "    .dataframe thead th {\n",
       "        text-align: right;\n",
       "    }\n",
       "</style>\n",
       "<table border=\"1\" class=\"dataframe\">\n",
       "  <thead>\n",
       "    <tr style=\"text-align: right;\">\n",
       "      <th></th>\n",
       "      <th>pixel0</th>\n",
       "      <th>pixel1</th>\n",
       "      <th>pixel2</th>\n",
       "      <th>pixel3</th>\n",
       "      <th>pixel4</th>\n",
       "      <th>pixel5</th>\n",
       "      <th>pixel6</th>\n",
       "      <th>pixel7</th>\n",
       "      <th>pixel8</th>\n",
       "      <th>pixel9</th>\n",
       "      <th>...</th>\n",
       "      <th>pixel774</th>\n",
       "      <th>pixel775</th>\n",
       "      <th>pixel776</th>\n",
       "      <th>pixel777</th>\n",
       "      <th>pixel778</th>\n",
       "      <th>pixel779</th>\n",
       "      <th>pixel780</th>\n",
       "      <th>pixel781</th>\n",
       "      <th>pixel782</th>\n",
       "      <th>pixel783</th>\n",
       "    </tr>\n",
       "  </thead>\n",
       "  <tbody>\n",
       "    <tr>\n",
       "      <th>0</th>\n",
       "      <td>0</td>\n",
       "      <td>0</td>\n",
       "      <td>0</td>\n",
       "      <td>0</td>\n",
       "      <td>0</td>\n",
       "      <td>0</td>\n",
       "      <td>0</td>\n",
       "      <td>0</td>\n",
       "      <td>0</td>\n",
       "      <td>0</td>\n",
       "      <td>...</td>\n",
       "      <td>0</td>\n",
       "      <td>0</td>\n",
       "      <td>0</td>\n",
       "      <td>0</td>\n",
       "      <td>0</td>\n",
       "      <td>0</td>\n",
       "      <td>0</td>\n",
       "      <td>0</td>\n",
       "      <td>0</td>\n",
       "      <td>0</td>\n",
       "    </tr>\n",
       "    <tr>\n",
       "      <th>1</th>\n",
       "      <td>0</td>\n",
       "      <td>0</td>\n",
       "      <td>0</td>\n",
       "      <td>0</td>\n",
       "      <td>0</td>\n",
       "      <td>0</td>\n",
       "      <td>0</td>\n",
       "      <td>0</td>\n",
       "      <td>0</td>\n",
       "      <td>0</td>\n",
       "      <td>...</td>\n",
       "      <td>0</td>\n",
       "      <td>0</td>\n",
       "      <td>0</td>\n",
       "      <td>0</td>\n",
       "      <td>0</td>\n",
       "      <td>0</td>\n",
       "      <td>0</td>\n",
       "      <td>0</td>\n",
       "      <td>0</td>\n",
       "      <td>0</td>\n",
       "    </tr>\n",
       "    <tr>\n",
       "      <th>2</th>\n",
       "      <td>0</td>\n",
       "      <td>0</td>\n",
       "      <td>0</td>\n",
       "      <td>0</td>\n",
       "      <td>0</td>\n",
       "      <td>0</td>\n",
       "      <td>0</td>\n",
       "      <td>0</td>\n",
       "      <td>0</td>\n",
       "      <td>0</td>\n",
       "      <td>...</td>\n",
       "      <td>0</td>\n",
       "      <td>0</td>\n",
       "      <td>0</td>\n",
       "      <td>0</td>\n",
       "      <td>0</td>\n",
       "      <td>0</td>\n",
       "      <td>0</td>\n",
       "      <td>0</td>\n",
       "      <td>0</td>\n",
       "      <td>0</td>\n",
       "    </tr>\n",
       "    <tr>\n",
       "      <th>3</th>\n",
       "      <td>0</td>\n",
       "      <td>0</td>\n",
       "      <td>0</td>\n",
       "      <td>0</td>\n",
       "      <td>0</td>\n",
       "      <td>0</td>\n",
       "      <td>0</td>\n",
       "      <td>0</td>\n",
       "      <td>0</td>\n",
       "      <td>0</td>\n",
       "      <td>...</td>\n",
       "      <td>0</td>\n",
       "      <td>0</td>\n",
       "      <td>0</td>\n",
       "      <td>0</td>\n",
       "      <td>0</td>\n",
       "      <td>0</td>\n",
       "      <td>0</td>\n",
       "      <td>0</td>\n",
       "      <td>0</td>\n",
       "      <td>0</td>\n",
       "    </tr>\n",
       "    <tr>\n",
       "      <th>4</th>\n",
       "      <td>0</td>\n",
       "      <td>0</td>\n",
       "      <td>0</td>\n",
       "      <td>0</td>\n",
       "      <td>0</td>\n",
       "      <td>0</td>\n",
       "      <td>0</td>\n",
       "      <td>0</td>\n",
       "      <td>0</td>\n",
       "      <td>0</td>\n",
       "      <td>...</td>\n",
       "      <td>0</td>\n",
       "      <td>0</td>\n",
       "      <td>0</td>\n",
       "      <td>0</td>\n",
       "      <td>0</td>\n",
       "      <td>0</td>\n",
       "      <td>0</td>\n",
       "      <td>0</td>\n",
       "      <td>0</td>\n",
       "      <td>0</td>\n",
       "    </tr>\n",
       "  </tbody>\n",
       "</table>\n",
       "<p>5 rows × 784 columns</p>\n",
       "</div>"
      ],
      "text/plain": [
       "   pixel0  pixel1  pixel2  pixel3  pixel4  pixel5  pixel6  pixel7  pixel8  \\\n",
       "0       0       0       0       0       0       0       0       0       0   \n",
       "1       0       0       0       0       0       0       0       0       0   \n",
       "2       0       0       0       0       0       0       0       0       0   \n",
       "3       0       0       0       0       0       0       0       0       0   \n",
       "4       0       0       0       0       0       0       0       0       0   \n",
       "\n",
       "   pixel9  ...  pixel774  pixel775  pixel776  pixel777  pixel778  pixel779  \\\n",
       "0       0  ...         0         0         0         0         0         0   \n",
       "1       0  ...         0         0         0         0         0         0   \n",
       "2       0  ...         0         0         0         0         0         0   \n",
       "3       0  ...         0         0         0         0         0         0   \n",
       "4       0  ...         0         0         0         0         0         0   \n",
       "\n",
       "   pixel780  pixel781  pixel782  pixel783  \n",
       "0         0         0         0         0  \n",
       "1         0         0         0         0  \n",
       "2         0         0         0         0  \n",
       "3         0         0         0         0  \n",
       "4         0         0         0         0  \n",
       "\n",
       "[5 rows x 784 columns]"
      ]
     },
     "execution_count": 6,
     "metadata": {},
     "output_type": "execute_result"
    }
   ],
   "source": [
    "df.head()"
   ]
  },
  {
   "cell_type": "markdown",
   "id": "45e8d405",
   "metadata": {
    "papermill": {
     "duration": 0.00754,
     "end_time": "2024-04-20T19:34:21.579581",
     "exception": false,
     "start_time": "2024-04-20T19:34:21.572041",
     "status": "completed"
    },
    "tags": []
   },
   "source": [
    "# > **Reducing Data**"
   ]
  },
  {
   "cell_type": "code",
   "execution_count": 7,
   "id": "1b7ed765",
   "metadata": {
    "execution": {
     "iopub.execute_input": "2024-04-20T19:34:21.597489Z",
     "iopub.status.busy": "2024-04-20T19:34:21.596626Z",
     "iopub.status.idle": "2024-04-20T19:34:23.984503Z",
     "shell.execute_reply": "2024-04-20T19:34:23.983168Z"
    },
    "papermill": {
     "duration": 2.406387,
     "end_time": "2024-04-20T19:34:23.993681",
     "exception": false,
     "start_time": "2024-04-20T19:34:21.587294",
     "status": "completed"
    },
    "tags": []
   },
   "outputs": [
    {
     "name": "stdout",
     "output_type": "stream",
     "text": [
      "Number of components for 95% variance:  132\n"
     ]
    }
   ],
   "source": [
    "from sklearn.decomposition import PCA\n",
    "from sklearn.cluster import KMeans\n",
    "import matplotlib.pyplot as plt\n",
    "import numpy as np\n",
    "\n",
    "# Fit PCA to your data (X)\n",
    "pca = PCA().fit(df)\n",
    "\n",
    "# Calculate cumulative explained variance\n",
    "cumulative_variance = np.cumsum(pca.explained_variance_ratio_)\n",
    "\n",
    "# Find the number of components for 95% variance\n",
    "ncomponents = np.where(cumulative_variance > 0.95)[0][0] + 1\n",
    "\n",
    "print('Number of components for 95% variance: ', ncomponents)"
   ]
  },
  {
   "cell_type": "code",
   "execution_count": 8,
   "id": "e8a6d4a6",
   "metadata": {
    "execution": {
     "iopub.execute_input": "2024-04-20T19:34:24.031332Z",
     "iopub.status.busy": "2024-04-20T19:34:24.030490Z",
     "iopub.status.idle": "2024-04-20T19:34:24.738957Z",
     "shell.execute_reply": "2024-04-20T19:34:24.736915Z"
    },
    "papermill": {
     "duration": 0.732051,
     "end_time": "2024-04-20T19:34:24.743689",
     "exception": false,
     "start_time": "2024-04-20T19:34:24.011638",
     "status": "completed"
    },
    "tags": []
   },
   "outputs": [],
   "source": [
    "pca = PCA(n_components=ncomponents)\n",
    "reduced_data = pca.fit_transform(df)"
   ]
  },
  {
   "cell_type": "markdown",
   "id": "6caf870f",
   "metadata": {
    "papermill": {
     "duration": 0.039154,
     "end_time": "2024-04-20T19:34:24.807995",
     "exception": false,
     "start_time": "2024-04-20T19:34:24.768841",
     "status": "completed"
    },
    "tags": []
   },
   "source": [
    "# > **Building Model**"
   ]
  },
  {
   "cell_type": "code",
   "execution_count": 9,
   "id": "164fa85f",
   "metadata": {
    "execution": {
     "iopub.execute_input": "2024-04-20T19:34:24.865900Z",
     "iopub.status.busy": "2024-04-20T19:34:24.865245Z",
     "iopub.status.idle": "2024-04-20T19:34:24.969294Z",
     "shell.execute_reply": "2024-04-20T19:34:24.967947Z"
    },
    "papermill": {
     "duration": 0.121158,
     "end_time": "2024-04-20T19:34:24.973325",
     "exception": false,
     "start_time": "2024-04-20T19:34:24.852167",
     "status": "completed"
    },
    "tags": []
   },
   "outputs": [
    {
     "name": "stderr",
     "output_type": "stream",
     "text": [
      "/opt/conda/lib/python3.10/site-packages/sklearn/cluster/_agglomerative.py:983: FutureWarning: Attribute `affinity` was deprecated in version 1.2 and will be removed in 1.4. Use `metric` instead\n",
      "  warnings.warn(\n"
     ]
    }
   ],
   "source": [
    "from sklearn.cluster import AgglomerativeClustering\n",
    "hcluster = AgglomerativeClustering(n_clusters=10,affinity='euclidean',linkage='ward')\n",
    "clusters = hcluster.fit_predict(reduced_data)"
   ]
  },
  {
   "cell_type": "markdown",
   "id": "abdeed32",
   "metadata": {
    "papermill": {
     "duration": 0.007627,
     "end_time": "2024-04-20T19:34:24.989014",
     "exception": false,
     "start_time": "2024-04-20T19:34:24.981387",
     "status": "completed"
    },
    "tags": []
   },
   "source": [
    "# > **Result**"
   ]
  },
  {
   "cell_type": "code",
   "execution_count": 10,
   "id": "6f4400d3",
   "metadata": {
    "execution": {
     "iopub.execute_input": "2024-04-20T19:34:25.007761Z",
     "iopub.status.busy": "2024-04-20T19:34:25.006466Z",
     "iopub.status.idle": "2024-04-20T19:34:25.019399Z",
     "shell.execute_reply": "2024-04-20T19:34:25.018082Z"
    },
    "papermill": {
     "duration": 0.02517,
     "end_time": "2024-04-20T19:34:25.022119",
     "exception": false,
     "start_time": "2024-04-20T19:34:24.996949",
     "status": "completed"
    },
    "tags": []
   },
   "outputs": [
    {
     "data": {
      "text/plain": [
       "array([5, 0, 9, 2, 0, 0, 4, 1, 1, 1, 7, 8, 9, 1, 1, 9, 3, 0, 8, 1, 7, 6,\n",
       "       3, 0, 3, 1, 6, 8, 4, 4, 7, 2, 2, 4, 4, 9, 4, 9, 9, 2, 4, 9, 2, 3,\n",
       "       3, 6, 1, 4, 8, 2, 4, 1, 9, 2, 0, 3, 3, 1, 8, 9, 4, 5, 5, 0, 6, 1,\n",
       "       2, 1, 9, 6, 1, 4, 3, 3, 6, 2, 4, 9, 2, 9, 5, 2, 7, 4, 3, 4, 8, 1,\n",
       "       4, 2, 1, 6, 4, 6, 3, 8, 9, 3, 0, 1, 2, 3, 8, 4, 7, 7, 5, 1, 0, 6,\n",
       "       0, 0, 1, 2, 0, 2, 8, 5, 9, 1, 2, 8, 2, 6, 5, 1, 8, 6, 1, 0, 2, 4,\n",
       "       4, 6, 5, 5, 4, 1, 4, 1, 9, 0, 1, 2, 5, 2, 0, 5, 2, 0, 1, 5, 9, 0,\n",
       "       5, 1, 8, 0, 4, 3, 6, 4, 5, 2, 6, 4, 4, 1, 2, 3, 5, 4, 5, 4, 5, 4,\n",
       "       1, 7, 1, 1, 8, 1, 5, 3, 8, 5, 7, 2, 0, 3, 5, 4, 4, 0, 6, 0, 0, 4,\n",
       "       1, 3, 0, 6, 6, 0, 0, 2, 4, 3, 8, 9, 4, 4, 1, 4, 7, 2, 6, 6, 5, 4,\n",
       "       7, 9, 4, 4, 9, 1, 4, 6, 1, 3, 1, 3, 1, 3, 1, 3, 3, 4, 2, 3, 3, 3,\n",
       "       8, 1, 5, 7, 4, 3, 0, 5, 2, 6, 3, 1, 4, 5, 9, 9, 2, 4, 0, 3, 4, 3,\n",
       "       0, 1, 6, 0, 7, 2, 6, 3, 0, 0, 4, 3, 0, 2, 3, 6, 4, 5, 6, 4, 1, 0,\n",
       "       0, 3, 0, 6, 5, 7, 0, 4, 3, 9, 4, 1, 3, 2, 4, 1, 3, 2, 8, 4, 3, 4,\n",
       "       4, 2, 4, 1, 3, 5, 1, 6, 1, 6, 1, 7, 1, 8, 0, 4, 3, 2, 4, 0, 4, 2,\n",
       "       1, 7, 4, 1, 1, 9, 4, 7, 4, 8, 6, 3, 5, 4, 0, 1, 6, 1, 1, 2, 1, 8,\n",
       "       3, 3, 3, 3, 8, 0, 4, 8, 9, 3, 6, 1, 2, 3, 0, 5, 8, 3, 3, 9, 4, 0,\n",
       "       6, 0, 4, 6, 2, 1, 5, 5, 2, 3, 8, 1, 8, 1, 9, 1, 2, 5, 1, 8, 1, 7,\n",
       "       6, 7, 5, 6, 9, 9, 2, 0, 0, 1, 7, 6, 4, 2, 3, 7, 0, 3, 1, 2, 7, 1,\n",
       "       0, 6, 2, 1, 6, 4, 9, 4, 9, 5, 2, 4, 2, 1, 3, 0, 6, 0, 2, 2, 3, 4,\n",
       "       6, 4, 6, 1, 3, 4, 2, 6, 2, 4, 2, 9, 4, 1, 5, 4, 1, 7, 4, 4, 1, 5,\n",
       "       3, 3, 4, 3, 5, 4, 5, 2, 1, 6, 0, 3, 3, 4, 9, 3, 8, 3, 5, 1, 2, 4,\n",
       "       9, 7, 0, 3, 3, 1, 2, 5, 1, 4, 2, 5, 2, 9, 1, 1, 3, 4, 0, 1, 8, 6,\n",
       "       7, 3, 0, 4, 1, 1, 7, 3, 4, 3, 4, 4, 5, 7, 8, 4, 5, 3, 2, 1, 1, 9,\n",
       "       5, 9, 4, 2, 6, 1, 7, 2, 3, 1, 0, 1, 5, 2, 0, 5, 9, 3, 2, 3, 2, 4,\n",
       "       6, 4, 0, 2, 4, 0, 3, 1, 4, 3, 1, 5, 8, 4, 4, 1, 2, 5, 3, 1, 6, 5,\n",
       "       3, 4, 3, 2, 3, 2, 9, 3, 5, 1, 8, 6, 9, 0, 2, 5, 2, 5, 9, 6, 8, 4,\n",
       "       9, 6, 1, 1, 9, 3, 3, 0, 1, 0, 1, 1, 1, 6, 9, 8, 1, 7, 5, 8, 4, 1,\n",
       "       2, 3, 4, 1, 8, 2, 3, 3, 1, 6, 5, 0, 5, 7, 6, 8, 3, 5, 6, 0, 3, 1,\n",
       "       0, 5, 1, 1, 5, 3, 5, 5, 4, 1, 9, 2, 2, 4, 9, 7, 4, 8, 4, 8, 0, 6,\n",
       "       4, 2, 5, 6, 3, 1, 8, 2, 4, 3, 1, 0, 7, 2, 7, 0, 6, 2, 4, 4, 4, 1,\n",
       "       3, 9, 6, 1, 4, 5, 9, 8, 8, 8, 7, 6, 2, 8, 1, 1, 5, 6, 2, 1, 4, 4,\n",
       "       5, 7, 1, 1, 9, 8, 5, 9, 5, 3, 2, 1, 4, 1, 9, 3, 4, 4, 0, 4, 5, 3,\n",
       "       1, 1, 0, 1, 0, 3, 0, 1, 1, 5, 1, 1, 4, 6, 1, 4, 0, 1, 4, 5, 4, 9,\n",
       "       5, 3, 6, 5, 5, 4, 1, 9, 3, 3, 3, 3, 5, 3, 4, 9, 0, 5, 5, 6, 1, 3,\n",
       "       8, 4, 1, 6, 0, 4, 4, 9, 1, 2, 1, 0, 5, 0, 6, 3, 4, 6, 6, 6, 5, 6,\n",
       "       8, 7, 6, 0, 6, 0, 7, 6, 5, 1, 6, 4, 8, 1, 4, 4, 4, 0, 4, 5, 3, 3,\n",
       "       1, 3, 4, 0, 2, 0, 1, 3, 5, 8, 4, 2, 5, 8, 0, 9, 9, 3, 1, 6, 3, 0,\n",
       "       6, 1, 9, 4, 2, 1, 3, 8, 4, 4, 4, 1, 7, 1, 5, 5, 6, 3, 0, 4, 4, 4,\n",
       "       4, 3, 6, 8, 7, 2, 2, 2, 9, 1, 8, 4, 0, 8, 8, 1, 8, 6, 6, 4, 7, 3,\n",
       "       4, 0, 2, 1, 5, 8, 0, 7, 2, 8, 2, 0, 6, 4, 7, 6, 0, 7, 6, 8, 1, 3,\n",
       "       4, 1, 6, 3, 3, 2, 3, 8, 2, 4, 4, 3, 2, 1, 3, 2, 7, 0, 4, 2, 3, 1,\n",
       "       6, 5, 3, 3, 1, 2, 5, 4, 5, 0, 6, 6, 4, 5, 8, 2, 3, 6, 1, 4, 4, 9,\n",
       "       0, 4, 3, 5, 2, 2, 4, 3, 3, 8, 3, 1, 1, 1, 3, 8, 0, 4, 4, 0, 8, 8,\n",
       "       7, 9, 2, 1, 8, 7, 0, 9, 0, 3, 4, 8, 6, 3, 3, 6, 8, 0, 6, 7, 9, 4,\n",
       "       3, 1, 1, 0, 3, 3, 5, 4, 6])"
      ]
     },
     "execution_count": 10,
     "metadata": {},
     "output_type": "execute_result"
    }
   ],
   "source": [
    "clusters"
   ]
  },
  {
   "cell_type": "markdown",
   "id": "04a8be39",
   "metadata": {
    "papermill": {
     "duration": 0.007826,
     "end_time": "2024-04-20T19:34:25.039612",
     "exception": false,
     "start_time": "2024-04-20T19:34:25.031786",
     "status": "completed"
    },
    "tags": []
   },
   "source": [
    "# > **Plotting**"
   ]
  },
  {
   "cell_type": "code",
   "execution_count": 11,
   "id": "fbb63ea0",
   "metadata": {
    "execution": {
     "iopub.execute_input": "2024-04-20T19:34:25.058370Z",
     "iopub.status.busy": "2024-04-20T19:34:25.057464Z",
     "iopub.status.idle": "2024-04-20T19:34:25.698915Z",
     "shell.execute_reply": "2024-04-20T19:34:25.697748Z"
    },
    "papermill": {
     "duration": 0.654458,
     "end_time": "2024-04-20T19:34:25.702183",
     "exception": false,
     "start_time": "2024-04-20T19:34:25.047725",
     "status": "completed"
    },
    "tags": []
   },
   "outputs": [
    {
     "data": {
      "image/png": "[encoded data removed]",
      "text/plain": [
       "<Figure size 800x800 with 1 Axes>"
      ]
     },
     "metadata": {},
     "output_type": "display_data"
    }
   ],
   "source": [
    "unique_labels = [0,1,2,3,4,5,6,7,8,9]\n",
    "\n",
    "import matplotlib.pyplot as plt \n",
    "plt.figure(figsize=(8, 8)) \n",
    "for i in unique_labels: \n",
    "    plt.scatter(reduced_data[clusters == i, 0], \n",
    "                reduced_data[clusters == i, 1], \n",
    "                label=i) \n",
    "plt.legend() \n",
    "plt.show() "
   ]
  },
  {
   "cell_type": "markdown",
   "id": "8f367326",
   "metadata": {
    "papermill": {
     "duration": 0.009595,
     "end_time": "2024-04-20T19:34:25.721857",
     "exception": false,
     "start_time": "2024-04-20T19:34:25.712262",
     "status": "completed"
    },
    "tags": []
   },
   "source": [
    "# > **Save to CSV**"
   ]
  },
  {
   "cell_type": "code",
   "execution_count": 12,
   "id": "e4f72a8a",
   "metadata": {
    "execution": {
     "iopub.execute_input": "2024-04-20T19:34:25.744085Z",
     "iopub.status.busy": "2024-04-20T19:34:25.743556Z",
     "iopub.status.idle": "2024-04-20T19:34:25.755416Z",
     "shell.execute_reply": "2024-04-20T19:34:25.754164Z"
    },
    "papermill": {
     "duration": 0.026617,
     "end_time": "2024-04-20T19:34:25.758610",
     "exception": false,
     "start_time": "2024-04-20T19:34:25.731993",
     "status": "completed"
    },
    "tags": []
   },
   "outputs": [],
   "source": [
    "df = pd.DataFrame({'ID': IDs, 'label': clusters})\n",
    "\n",
    "df.to_csv('prediction.csv', index=False)"
   ]
  }
 ],
 "metadata": {
  "kaggle": {
   "accelerator": "none",
   "dataSources": [
    {
     "databundleVersionId": 8113154,
     "sourceId": 73493,
     "sourceType": "competition"
    }
   ],
   "dockerImageVersionId": 30673,
   "isGpuEnabled": false,
   "isInternetEnabled": true,
   "language": "python",
   "sourceType": "notebook"
  },
  "kernelspec": {
   "display_name": "Python 3",
   "language": "python",
   "name": "python3"
  },
  "language_info": {
   "codemirror_mode": {
    "name": "ipython",
    "version": 3
   },
   "file_extension": ".py",
   "mimetype": "text/x-python",
   "name": "python",
   "nbconvert_exporter": "python",
   "pygments_lexer": "ipython3",
   "version": "3.10.13"
  },
  "papermill": {
   "default_parameters": {},
   "duration": 10.076991,
   "end_time": "2024-04-20T19:34:26.693452",
   "environment_variables": {},
   "exception": null,
   "input_path": "__notebook__.ipynb",
   "output_path": "__notebook__.ipynb",
   "parameters": {},
   "start_time": "2024-04-20T19:34:16.616461",
   "version": "2.5.0"
  }
 },
 "nbformat": 4,
 "nbformat_minor": 5
}
